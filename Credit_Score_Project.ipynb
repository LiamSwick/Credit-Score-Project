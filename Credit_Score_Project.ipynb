{
  "nbformat": 4,
  "nbformat_minor": 0,
  "metadata": {
    "colab": {
      "provenance": [],
      "authorship_tag": "ABX9TyOIag2HqrPSwrNnF9ejSnS3",
      "include_colab_link": true
    },
    "kernelspec": {
      "name": "python3",
      "display_name": "Python 3"
    },
    "language_info": {
      "name": "python"
    }
  },
  "cells": [
    {
      "cell_type": "markdown",
      "metadata": {
        "id": "view-in-github",
        "colab_type": "text"
      },
      "source": [
        "<a href=\"https://colab.research.google.com/github/LiamSwick/Credit-Score-Project/blob/main/Credit_Score_Project.ipynb\" target=\"_parent\"><img src=\"https://colab.research.google.com/assets/colab-badge.svg\" alt=\"Open In Colab\"/></a>"
      ]
    },
    {
      "cell_type": "code",
      "execution_count": 6,
      "metadata": {
        "id": "ImhyiyiULHnR"
      },
      "outputs": [],
      "source": [
        "import kagglehub\n",
        "import matplotlib.pyplot as plt\n",
        "import pandas as pd\n",
        "import numpy as np\n",
        "import seaborn as sns\n",
        "\n",
        "from scipy.stats import zscore\n",
        "from sklearn.metrics import accuracy_score, classification_report, confusion_matrix, roc_curve, auc, f1_score"
      ]
    },
    {
      "cell_type": "code",
      "source": [
        "# Load in the dataset from Kaggle\n",
        "path = kagglehub.dataset_download(\"parisrohan/credit-score-classification\")\n",
        "\n",
        "print(\"Path to dataset files:\", path)\n",
        "\n",
        "df = pd.read_csv(path + \"/train.csv\")"
      ],
      "metadata": {
        "colab": {
          "base_uri": "https://localhost:8080/"
        },
        "id": "c8bPmHkkUXFz",
        "outputId": "32190710-56dd-4628-897c-b86cff33e201"
      },
      "execution_count": 7,
      "outputs": [
        {
          "output_type": "stream",
          "name": "stdout",
          "text": [
            "Downloading from https://www.kaggle.com/api/v1/datasets/download/parisrohan/credit-score-classification?dataset_version_number=1...\n"
          ]
        },
        {
          "output_type": "stream",
          "name": "stderr",
          "text": [
            "100%|██████████| 9.51M/9.51M [00:00<00:00, 169MB/s]"
          ]
        },
        {
          "output_type": "stream",
          "name": "stdout",
          "text": [
            "Extracting files...\n"
          ]
        },
        {
          "output_type": "stream",
          "name": "stderr",
          "text": [
            "\n"
          ]
        },
        {
          "output_type": "stream",
          "name": "stdout",
          "text": [
            "Path to dataset files: /root/.cache/kagglehub/datasets/parisrohan/credit-score-classification/versions/1\n"
          ]
        },
        {
          "output_type": "stream",
          "name": "stderr",
          "text": [
            "/tmp/ipython-input-7-3404476064.py:6: DtypeWarning: Columns (26) have mixed types. Specify dtype option on import or set low_memory=False.\n",
            "  df = pd.read_csv(path + \"/train.csv\")\n"
          ]
        }
      ]
    },
    {
      "cell_type": "code",
      "source": [
        "# Set the display options so that we can see all of the columns in the dataset.\n",
        "pd.set_option('display.max_columns', None)"
      ],
      "metadata": {
        "id": "Re3jfh4tnNoQ"
      },
      "execution_count": 8,
      "outputs": []
    },
    {
      "cell_type": "code",
      "source": [
        "# Check for NAN values before we begin cleaning\n",
        "print(df.isna().sum())"
      ],
      "metadata": {
        "id": "2sJ626LISUGT",
        "colab": {
          "base_uri": "https://localhost:8080/"
        },
        "outputId": "42e42d2f-30a4-4efc-f32f-2e1e3f005196"
      },
      "execution_count": 9,
      "outputs": [
        {
          "output_type": "stream",
          "name": "stdout",
          "text": [
            "ID                              0\n",
            "Customer_ID                     0\n",
            "Month                           0\n",
            "Name                         9985\n",
            "Age                             0\n",
            "SSN                             0\n",
            "Occupation                      0\n",
            "Annual_Income                   0\n",
            "Monthly_Inhand_Salary       15002\n",
            "Num_Bank_Accounts               0\n",
            "Num_Credit_Card                 0\n",
            "Interest_Rate                   0\n",
            "Num_of_Loan                     0\n",
            "Type_of_Loan                11408\n",
            "Delay_from_due_date             0\n",
            "Num_of_Delayed_Payment       7002\n",
            "Changed_Credit_Limit            0\n",
            "Num_Credit_Inquiries         1965\n",
            "Credit_Mix                      0\n",
            "Outstanding_Debt                0\n",
            "Credit_Utilization_Ratio        0\n",
            "Credit_History_Age           9030\n",
            "Payment_of_Min_Amount           0\n",
            "Total_EMI_per_month             0\n",
            "Amount_invested_monthly      4479\n",
            "Payment_Behaviour               0\n",
            "Monthly_Balance              1200\n",
            "Credit_Score                    0\n",
            "dtype: int64\n"
          ]
        }
      ]
    },
    {
      "cell_type": "code",
      "source": [
        "# Create a copy of the dataset that we can edit and still preserve the original\n",
        "#df.info()\n",
        "df_copy = df.copy()"
      ],
      "metadata": {
        "id": "i1uAOzXSUzYX"
      },
      "execution_count": 10,
      "outputs": []
    },
    {
      "cell_type": "code",
      "source": [
        "# Call out purely numerical columns and typecast all the values in these columns to numerical values.\n",
        "num_cols = ['Age','Annual_Income', 'Monthly_Inhand_Salary', 'Num_Bank_Accounts',\n",
        "       'Num_Credit_Card', 'Interest_Rate', 'Num_of_Loan',\n",
        "       'Delay_from_due_date', 'Num_of_Delayed_Payment', 'Changed_Credit_Limit',\n",
        "       'Num_Credit_Inquiries', 'Outstanding_Debt',\n",
        "       'Credit_Utilization_Ratio', 'Total_EMI_per_month',\n",
        "       'Amount_invested_monthly', 'Monthly_Balance']\n",
        "for col in num_cols:\n",
        "  df_copy[col] = pd.to_numeric(df_copy[col], errors = 'coerce')\n",
        "df_copy.isna().sum()"
      ],
      "metadata": {
        "colab": {
          "base_uri": "https://localhost:8080/",
          "height": 962
        },
        "id": "hYDU5piJVNzy",
        "outputId": "b25739d7-b394-4938-840b-d1f0cdc22fd9"
      },
      "execution_count": 11,
      "outputs": [
        {
          "output_type": "execute_result",
          "data": {
            "text/plain": [
              "ID                              0\n",
              "Customer_ID                     0\n",
              "Month                           0\n",
              "Name                         9985\n",
              "Age                          4939\n",
              "SSN                             0\n",
              "Occupation                      0\n",
              "Annual_Income                6980\n",
              "Monthly_Inhand_Salary       15002\n",
              "Num_Bank_Accounts               0\n",
              "Num_Credit_Card                 0\n",
              "Interest_Rate                   0\n",
              "Num_of_Loan                  4785\n",
              "Type_of_Loan                11408\n",
              "Delay_from_due_date             0\n",
              "Num_of_Delayed_Payment       9746\n",
              "Changed_Credit_Limit         2091\n",
              "Num_Credit_Inquiries         1965\n",
              "Credit_Mix                      0\n",
              "Outstanding_Debt             1009\n",
              "Credit_Utilization_Ratio        0\n",
              "Credit_History_Age           9030\n",
              "Payment_of_Min_Amount           0\n",
              "Total_EMI_per_month             0\n",
              "Amount_invested_monthly      8784\n",
              "Payment_Behaviour               0\n",
              "Monthly_Balance              1209\n",
              "Credit_Score                    0\n",
              "dtype: int64"
            ],
            "text/html": [
              "<div>\n",
              "<style scoped>\n",
              "    .dataframe tbody tr th:only-of-type {\n",
              "        vertical-align: middle;\n",
              "    }\n",
              "\n",
              "    .dataframe tbody tr th {\n",
              "        vertical-align: top;\n",
              "    }\n",
              "\n",
              "    .dataframe thead th {\n",
              "        text-align: right;\n",
              "    }\n",
              "</style>\n",
              "<table border=\"1\" class=\"dataframe\">\n",
              "  <thead>\n",
              "    <tr style=\"text-align: right;\">\n",
              "      <th></th>\n",
              "      <th>0</th>\n",
              "    </tr>\n",
              "  </thead>\n",
              "  <tbody>\n",
              "    <tr>\n",
              "      <th>ID</th>\n",
              "      <td>0</td>\n",
              "    </tr>\n",
              "    <tr>\n",
              "      <th>Customer_ID</th>\n",
              "      <td>0</td>\n",
              "    </tr>\n",
              "    <tr>\n",
              "      <th>Month</th>\n",
              "      <td>0</td>\n",
              "    </tr>\n",
              "    <tr>\n",
              "      <th>Name</th>\n",
              "      <td>9985</td>\n",
              "    </tr>\n",
              "    <tr>\n",
              "      <th>Age</th>\n",
              "      <td>4939</td>\n",
              "    </tr>\n",
              "    <tr>\n",
              "      <th>SSN</th>\n",
              "      <td>0</td>\n",
              "    </tr>\n",
              "    <tr>\n",
              "      <th>Occupation</th>\n",
              "      <td>0</td>\n",
              "    </tr>\n",
              "    <tr>\n",
              "      <th>Annual_Income</th>\n",
              "      <td>6980</td>\n",
              "    </tr>\n",
              "    <tr>\n",
              "      <th>Monthly_Inhand_Salary</th>\n",
              "      <td>15002</td>\n",
              "    </tr>\n",
              "    <tr>\n",
              "      <th>Num_Bank_Accounts</th>\n",
              "      <td>0</td>\n",
              "    </tr>\n",
              "    <tr>\n",
              "      <th>Num_Credit_Card</th>\n",
              "      <td>0</td>\n",
              "    </tr>\n",
              "    <tr>\n",
              "      <th>Interest_Rate</th>\n",
              "      <td>0</td>\n",
              "    </tr>\n",
              "    <tr>\n",
              "      <th>Num_of_Loan</th>\n",
              "      <td>4785</td>\n",
              "    </tr>\n",
              "    <tr>\n",
              "      <th>Type_of_Loan</th>\n",
              "      <td>11408</td>\n",
              "    </tr>\n",
              "    <tr>\n",
              "      <th>Delay_from_due_date</th>\n",
              "      <td>0</td>\n",
              "    </tr>\n",
              "    <tr>\n",
              "      <th>Num_of_Delayed_Payment</th>\n",
              "      <td>9746</td>\n",
              "    </tr>\n",
              "    <tr>\n",
              "      <th>Changed_Credit_Limit</th>\n",
              "      <td>2091</td>\n",
              "    </tr>\n",
              "    <tr>\n",
              "      <th>Num_Credit_Inquiries</th>\n",
              "      <td>1965</td>\n",
              "    </tr>\n",
              "    <tr>\n",
              "      <th>Credit_Mix</th>\n",
              "      <td>0</td>\n",
              "    </tr>\n",
              "    <tr>\n",
              "      <th>Outstanding_Debt</th>\n",
              "      <td>1009</td>\n",
              "    </tr>\n",
              "    <tr>\n",
              "      <th>Credit_Utilization_Ratio</th>\n",
              "      <td>0</td>\n",
              "    </tr>\n",
              "    <tr>\n",
              "      <th>Credit_History_Age</th>\n",
              "      <td>9030</td>\n",
              "    </tr>\n",
              "    <tr>\n",
              "      <th>Payment_of_Min_Amount</th>\n",
              "      <td>0</td>\n",
              "    </tr>\n",
              "    <tr>\n",
              "      <th>Total_EMI_per_month</th>\n",
              "      <td>0</td>\n",
              "    </tr>\n",
              "    <tr>\n",
              "      <th>Amount_invested_monthly</th>\n",
              "      <td>8784</td>\n",
              "    </tr>\n",
              "    <tr>\n",
              "      <th>Payment_Behaviour</th>\n",
              "      <td>0</td>\n",
              "    </tr>\n",
              "    <tr>\n",
              "      <th>Monthly_Balance</th>\n",
              "      <td>1209</td>\n",
              "    </tr>\n",
              "    <tr>\n",
              "      <th>Credit_Score</th>\n",
              "      <td>0</td>\n",
              "    </tr>\n",
              "  </tbody>\n",
              "</table>\n",
              "</div><br><label><b>dtype:</b> int64</label>"
            ]
          },
          "metadata": {},
          "execution_count": 11
        }
      ]
    },
    {
      "cell_type": "code",
      "source": [
        "# Create function to fill NAN values accurately.\n",
        "def clean_by_CID(dataframe):\n",
        "    \"\"\"\n",
        "    This function will clean the columns that have a non-zero amount of NAN values.\n",
        "    It groups by CID and does forward and backward filling for NAN values.\n",
        "\n",
        "    Arguments:\n",
        "    (pd.DataFrame): The input is the dataframe you want to clean.\n",
        "\n",
        "    Returns:\n",
        "    (pd.DataFrame): The cleaned dataframe (clean in the sense that the NAN values have been filled).\n",
        "    \"\"\"\n",
        "\n",
        "    na_mask = dataframe.isna().sum() > 0\n",
        "    for col in dataframe.columns[na_mask]:\n",
        "        dataframe[col] = dataframe.groupby('Customer_ID')[col].ffill().bfill()\n",
        "    return dataframe\n",
        "\n",
        "clean_by_CID(df_copy)\n",
        "print(df_copy.isna().sum())"
      ],
      "metadata": {
        "colab": {
          "base_uri": "https://localhost:8080/"
        },
        "id": "gzl0QS3cjbVJ",
        "outputId": "f3e4395f-cb5c-4678-ec09-91a87024be4a"
      },
      "execution_count": 12,
      "outputs": [
        {
          "output_type": "stream",
          "name": "stdout",
          "text": [
            "ID                          0\n",
            "Customer_ID                 0\n",
            "Month                       0\n",
            "Name                        0\n",
            "Age                         0\n",
            "SSN                         0\n",
            "Occupation                  0\n",
            "Annual_Income               0\n",
            "Monthly_Inhand_Salary       0\n",
            "Num_Bank_Accounts           0\n",
            "Num_Credit_Card             0\n",
            "Interest_Rate               0\n",
            "Num_of_Loan                 0\n",
            "Type_of_Loan                0\n",
            "Delay_from_due_date         0\n",
            "Num_of_Delayed_Payment      0\n",
            "Changed_Credit_Limit        0\n",
            "Num_Credit_Inquiries        0\n",
            "Credit_Mix                  0\n",
            "Outstanding_Debt            0\n",
            "Credit_Utilization_Ratio    0\n",
            "Credit_History_Age          0\n",
            "Payment_of_Min_Amount       0\n",
            "Total_EMI_per_month         0\n",
            "Amount_invested_monthly     0\n",
            "Payment_Behaviour           0\n",
            "Monthly_Balance             0\n",
            "Credit_Score                0\n",
            "dtype: int64\n"
          ]
        }
      ]
    },
    {
      "cell_type": "code",
      "source": [
        "# Begin to clean values that are not labeled NAN, starting with static data columns.\n",
        "def clean_static_categorical(df, id_col, static_cols):\n",
        "    \"\"\"\n",
        "    For each static column, replace values that don't match the group's majority value.\n",
        "\n",
        "    Args:\n",
        "        df (pd.DataFrame): The dataset\n",
        "        id_col (str): The column identifying the group (e.g. 'Customer_ID')\n",
        "        static_cols (list): List of categorical columns expected to be static within group\n",
        "\n",
        "    Returns:\n",
        "        pd.DataFrame: Cleaned dataframe with additional column:\n",
        "            - {col}_clean: cleaned version\n",
        "    \"\"\"\n",
        "    df_clean = df.copy()\n",
        "\n",
        "    for col in static_cols:\n",
        "        # compute mode per group\n",
        "        mode_series = (\n",
        "            df_clean.groupby(id_col)[col]\n",
        "            .agg(lambda x: x.mode().iloc[0] if not x.mode().empty else np.nan)\n",
        "            .rename(f'{col}_majority')\n",
        "        )\n",
        "\n",
        "        # merge majority value back\n",
        "        df_clean = df_clean.merge(mode_series, on=id_col)\n",
        "\n",
        "        # replace inconsistent values\n",
        "        df_clean[f'{col}_clean'] = np.where(\n",
        "            df_clean[col] != df_clean[f'{col}_majority'],\n",
        "            df_clean[f'{col}_majority'],\n",
        "            df_clean[col]\n",
        "        )\n",
        "\n",
        "        # drop helper majority column\n",
        "        df_clean = df_clean.drop(columns=[f'{col}_majority'])\n",
        "\n",
        "    return df_clean\n",
        "\n",
        "id_col = 'Customer_ID'\n",
        "static_cols = ['Name','Age','SSN','Occupation','Annual_Income','Monthly_Inhand_Salary',\n",
        "                   'Type_of_Loan','Num_Bank_Accounts', 'Num_Credit_Card', 'Interest_Rate',\n",
        "                   'Num_of_Loan', 'Type_of_Loan', 'Num_Credit_Inquiries','Credit_Mix',\n",
        "                   'Payment_of_Min_Amount','Total_EMI_per_month', 'Outstanding_Debt']\n",
        "\n",
        "df_clean = clean_static_categorical(df_copy, id_col, static_cols)\n",
        "#df_clean.head(25)"
      ],
      "metadata": {
        "id": "m4ZpmCWR52sv"
      },
      "execution_count": 13,
      "outputs": []
    },
    {
      "cell_type": "code",
      "source": [
        "# Check for non-NAN erronoues values in the numerical data (i.e. data points that are out of a logical range)\n",
        "#for col in num_cols:\n",
        "  #print(df_copy[col].agg(['min','median', 'max']))"
      ],
      "metadata": {
        "id": "HQnXLgwCvRiW"
      },
      "execution_count": 14,
      "outputs": []
    },
    {
      "cell_type": "code",
      "source": [
        "# Replace outlier values in each group with the appropriate metric\n",
        "\n",
        "def clean_outliers(df, id_col, num_cols):\n",
        "  \"\"\"\n",
        "  This function will group by CID and replace outlier values with the appropriate metric.\n",
        "  This will likely be the mean or median value for each group. To be able to apply a loop\n",
        "  that consistenly cleans each different column with different ranges, we will use z-score\n",
        "  comparison.\n",
        "\n",
        "  Arguments:\n",
        "  df (pd.DataFrame): The dataset\n",
        "  id_col (str): The column identifying the group (e.g. 'Customer_ID')\n",
        "  num_cols (list): List of numerical columns to clean\n",
        "\n",
        "  Returns:\n",
        "  pd.DataFrame: Cleaned dataframe\n",
        "\n",
        "  \"\"\"\n",
        "  df_clean = df.copy()\n",
        "  for cols in num_cols:\n",
        "    # Compute z-scores within each group\n",
        "    df_clean[f'{col}_zscore'] = df_clean.groupby(id_col)[col].transform(lambda x: zscore(x, nan_policy='omit'))\n",
        "\n",
        "    #Flag values where abs(z) > 3)\n",
        "    df_clean[f'{col}_is_outlier'] = df_clean[f'{col}_zscore'].abs() > 3\n",
        "\n",
        "  df_clean = df_clean.merge(z_score_series, on=id_col)\n",
        "\n",
        "  return df_clean\n",
        "\n",
        "df_copy = clean_outliers(df_copy,id_col, num_cols)\n",
        "head(df_copy)"
      ],
      "metadata": {
        "colab": {
          "base_uri": "https://localhost:8080/",
          "height": 315
        },
        "id": "3z8NDMrw9Dby",
        "outputId": "3849088f-bab4-4885-a6e1-9c304c93b060"
      },
      "execution_count": 16,
      "outputs": [
        {
          "output_type": "error",
          "ename": "TypeError",
          "evalue": "'SeriesGroupBy' object is not callable",
          "traceback": [
            "\u001b[0;31m---------------------------------------------------------------------------\u001b[0m",
            "\u001b[0;31mTypeError\u001b[0m                                 Traceback (most recent call last)",
            "\u001b[0;32m/tmp/ipython-input-16-3321577414.py\u001b[0m in \u001b[0;36m<cell line: 0>\u001b[0;34m()\u001b[0m\n\u001b[1;32m     30\u001b[0m   \u001b[0;32mreturn\u001b[0m \u001b[0mdf_clean\u001b[0m\u001b[0;34m\u001b[0m\u001b[0;34m\u001b[0m\u001b[0m\n\u001b[1;32m     31\u001b[0m \u001b[0;34m\u001b[0m\u001b[0m\n\u001b[0;32m---> 32\u001b[0;31m \u001b[0mdf_copy\u001b[0m \u001b[0;34m=\u001b[0m \u001b[0mclean_outliers\u001b[0m\u001b[0;34m(\u001b[0m\u001b[0mdf_copy\u001b[0m\u001b[0;34m,\u001b[0m\u001b[0mid_col\u001b[0m\u001b[0;34m,\u001b[0m \u001b[0mnum_cols\u001b[0m\u001b[0;34m)\u001b[0m\u001b[0;34m\u001b[0m\u001b[0;34m\u001b[0m\u001b[0m\n\u001b[0m\u001b[1;32m     33\u001b[0m \u001b[0mhead\u001b[0m\u001b[0;34m(\u001b[0m\u001b[0mdf_copy\u001b[0m\u001b[0;34m)\u001b[0m\u001b[0;34m\u001b[0m\u001b[0;34m\u001b[0m\u001b[0m\n",
            "\u001b[0;32m/tmp/ipython-input-16-3321577414.py\u001b[0m in \u001b[0;36mclean_outliers\u001b[0;34m(df, id_col, num_cols)\u001b[0m\n\u001b[1;32m     22\u001b[0m         \u001b[0;31m# compute z-score for each value per group of num cols\u001b[0m\u001b[0;34m\u001b[0m\u001b[0;34m\u001b[0m\u001b[0m\n\u001b[1;32m     23\u001b[0m         z_score_series = (\n\u001b[0;32m---> 24\u001b[0;31m             \u001b[0mdf_clean\u001b[0m\u001b[0;34m.\u001b[0m\u001b[0mgroupby\u001b[0m\u001b[0;34m(\u001b[0m\u001b[0mid_col\u001b[0m\u001b[0;34m)\u001b[0m\u001b[0;34m[\u001b[0m\u001b[0mcol\u001b[0m\u001b[0;34m]\u001b[0m\u001b[0;34m\u001b[0m\u001b[0;34m\u001b[0m\u001b[0m\n\u001b[0m\u001b[1;32m     25\u001b[0m             \u001b[0;34m(\u001b[0m\u001b[0;32mlambda\u001b[0m \u001b[0mx\u001b[0m\u001b[0;34m:\u001b[0m \u001b[0mx\u001b[0m\u001b[0;34m.\u001b[0m\u001b[0mmean\u001b[0m\u001b[0;34m(\u001b[0m\u001b[0;34m)\u001b[0m \u001b[0;32mif\u001b[0m \u001b[0mzscore\u001b[0m\u001b[0;34m(\u001b[0m\u001b[0mx\u001b[0m\u001b[0;34m)\u001b[0m\u001b[0;34m**\u001b[0m\u001b[0;36m2\u001b[0m \u001b[0;34m>\u001b[0m \u001b[0;36m9\u001b[0m \u001b[0;32melse\u001b[0m \u001b[0mnp\u001b[0m\u001b[0;34m.\u001b[0m\u001b[0mnan\u001b[0m \u001b[0;34m)\u001b[0m\u001b[0;34m\u001b[0m\u001b[0;34m\u001b[0m\u001b[0m\n\u001b[1;32m     26\u001b[0m             \u001b[0;34m.\u001b[0m\u001b[0mrename\u001b[0m\u001b[0;34m(\u001b[0m\u001b[0;34mf'{col}_zscores'\u001b[0m\u001b[0;34m)\u001b[0m\u001b[0;34m\u001b[0m\u001b[0;34m\u001b[0m\u001b[0m\n",
            "\u001b[0;31mTypeError\u001b[0m: 'SeriesGroupBy' object is not callable"
          ]
        }
      ]
    },
    {
      "cell_type": "code",
      "source": [
        "data = {'values': [10, 20, 30, 40, 50]}\n",
        "df = pd.DataFrame(data)\n",
        "\n",
        "# Calculate z-scores\n",
        "df['z_score'] = zscore(df['values'])\n",
        "print(df)"
      ],
      "metadata": {
        "id": "DfC6yIGnJqzv"
      },
      "execution_count": null,
      "outputs": []
    },
    {
      "cell_type": "code",
      "source": [
        " for col in num_cols:\n",
        "  plt.figure(figsize=(5,5))\n",
        "  sns.boxplot(df_copy[col])\n",
        "  plt.show()"
      ],
      "metadata": {
        "id": "qcFW0cPDBkEJ"
      },
      "execution_count": null,
      "outputs": []
    },
    {
      "cell_type": "code",
      "source": [
        "# Data integrity step\n",
        "df_copy = df_copy.drop(['ID', 'Customer_ID','Name','SSN',], axis=1)\n",
        "\n",
        "df_copy = df_copy.round(2) # Most of this numerical data only makes sense to the hundreths place (cents)"
      ],
      "metadata": {
        "id": "F8kl2JmBc9PF"
      },
      "execution_count": null,
      "outputs": []
    },
    {
      "cell_type": "code",
      "source": [
        "# Now all we have to do is clean/process the dates and categorical data so we can begin doing data analysis\n",
        "df_copy.head()"
      ],
      "metadata": {
        "id": "E-pre9Hwo2ci"
      },
      "execution_count": null,
      "outputs": []
    },
    {
      "cell_type": "code",
      "source": [
        "subset = df_copy.drop(columns = ['Month', 'Occupation', 'Type_of_Loan', 'Credit_Mix', 'Credit_History_Age',\n",
        "                                 'Payment_of_Min_Amount','Payment_Behaviour','Credit_Score'])\n",
        "corr = subset.corr()\n",
        "#plt.figure(figsize=(10,8))\n",
        "#sns.heatmap(corr, annot = True)\n",
        "#plt.show()"
      ],
      "metadata": {
        "id": "K4kaKH-fax9t"
      },
      "execution_count": null,
      "outputs": []
    },
    {
      "cell_type": "code",
      "source": [
        "test = \"22 years and 4 months\"\n",
        "def process_history(string):\n",
        "\n",
        "  spoopy = string.split(' ')\n",
        "  spoopy = pd.Series(spoopy)\n",
        "  nums = [spoopy[0], spoopy[3]]\n",
        "  nums = pd.to_numeric(nums)\n",
        "  years = nums[0] + (nums[1]/12)\n",
        "  years = round(years, 2)\n",
        "  return years\n"
      ],
      "metadata": {
        "id": "Bf4VuUIva3OS"
      },
      "execution_count": null,
      "outputs": []
    },
    {
      "cell_type": "code",
      "source": [
        "for i in range(np.size(df_copy['Credit_History_Age'])):\n",
        "  history_string = df_copy.loc[i, 'Credit_History_Age']\n",
        "  df_copy.loc[i, 'Credit_History_Age'] = process_history(history_string)"
      ],
      "metadata": {
        "id": "9nv9ImdjjTse"
      },
      "execution_count": null,
      "outputs": []
    },
    {
      "cell_type": "code",
      "source": [
        "df_copy['Occupation'] = df['Occupation'].astype('category')\n",
        "df_copy['Type_of_Loan'] = df['Type_of_Loan'].astype('category')\n",
        "df_copy['Credit_Mix'] = df['Credit_Mix'].astype('category')\n",
        "df_copy['Credit_Score'] = df['Credit_Score'].astype('category')"
      ],
      "metadata": {
        "id": "6Yhh339Ekk4m"
      },
      "execution_count": null,
      "outputs": []
    },
    {
      "cell_type": "code",
      "source": [
        "df_copy['Occupation'] = df_copy['Occupation'].replace(to_replace = '_______', method = 'ffill')\n",
        "df_copy['Type_of_Loan'] = df_copy['Type_of_Loan'].replace(to_replace = '_', method = 'ffill')\n",
        "df_copy['Credit_Mix'] = df_copy['Credit_Mix'].replace(to_replace = '_', method = 'ffill')\n",
        "df_copy['Payment_of_Min_Amount'] = df_copy['Payment_of_Min_Amount'].replace(to_replace = '_', method = 'ffill')\n",
        "df_copy['Payment_Behaviour'] = df_copy['Payment_Behaviour'].replace(to_replace = '_', method = 'ffill')"
      ],
      "metadata": {
        "id": "X-hQkdO1-Ld9"
      },
      "execution_count": null,
      "outputs": []
    },
    {
      "cell_type": "code",
      "source": [
        "df_copy.head(15)"
      ],
      "metadata": {
        "id": "4rweKX_kVzGd"
      },
      "execution_count": null,
      "outputs": []
    },
    {
      "cell_type": "code",
      "source": [
        "print(df_copy['Occupation'].unique())"
      ],
      "metadata": {
        "id": "3aEFg2Th5vXl"
      },
      "execution_count": null,
      "outputs": []
    },
    {
      "cell_type": "code",
      "source": [],
      "metadata": {
        "id": "_yc57HYDEbNk"
      },
      "execution_count": null,
      "outputs": []
    }
  ]
}